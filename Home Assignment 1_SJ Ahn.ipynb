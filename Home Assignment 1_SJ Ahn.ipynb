{
 "cells": [
  {
   "cell_type": "code",
   "execution_count": 1,
   "id": "7b688a50",
   "metadata": {},
   "outputs": [],
   "source": [
    "import pandas as pd\n",
    "from datetime import datetime\n",
    "from datetime import timedelta\n",
    "transaction_data = pd.read_csv('C:/Users/SJ/Desktop/MSBA/Marketing/transaction_data.csv')\n",
    "cust_data = pd.read_csv('C:/Users/SJ/Desktop/MSBA/Marketing/cust_data.csv')\n",
    "transaction_data['Order Date'] = pd.to_datetime(transaction_data['Order Date'])"
   ]
  },
  {
   "cell_type": "code",
   "execution_count": 2,
   "id": "bd0b9f9e",
   "metadata": {},
   "outputs": [],
   "source": [
    "# Define the treatment start date\n",
    "treatment_start_date = datetime.strptime(\"2019-03-02\", \"%Y-%m-%d\")\n",
    "\n",
    "# Define the pre-treatment and post-treatment date ranges\n",
    "pre_treatment_end_date = treatment_start_date - timedelta(days=1)\n",
    "pre_treatment_start_date = pre_treatment_end_date - timedelta(days=59)\n",
    "post_treatment_start_date = treatment_start_date\n",
    "post_treatment_end_date = treatment_start_date + timedelta(days=59)\n",
    "\n",
    "# Filter the transactions for the pre-treatment and post-treatment periods\n",
    "pre_treatment_transactions = transaction_data[\n",
    "    (transaction_data['Order Date'] >= pre_treatment_start_date) &\n",
    "    (transaction_data['Order Date'] <= pre_treatment_end_date)\n",
    "]\n",
    "post_treatment_transactions = transaction_data[\n",
    "    (transaction_data['Order Date'] >= post_treatment_start_date) &\n",
    "    (transaction_data['Order Date'] <= post_treatment_end_date)\n",
    "]\n",
    "\n",
    "# Calculate the total profit per customer for each period\n",
    "pre_treatment_profit = pre_treatment_transactions.groupby('Customer ID')['Profit'].sum().reset_index()\n",
    "post_treatment_profit = post_treatment_transactions.groupby('Customer ID')['Profit'].sum().reset_index()\n",
    "\n",
    "# Rename the columns to reflect pre-treatment and post-treatment profits\n",
    "pre_treatment_profit.rename(columns={'Profit': 'Profit 60 Days Before Treatment'}, inplace=True)\n",
    "post_treatment_profit.rename(columns={'Profit': 'Profit 60 Days After Treatment'}, inplace=True)\n",
    "\n",
    "# Merge the customer data with the pre-treatment and post-treatment profits\n",
    "combined_data = cust_data.merge(pre_treatment_profit, on='Customer ID', how='left')\n",
    "combined_data = combined_data.merge(post_treatment_profit, on='Customer ID', how='left')\n",
    "\n",
    "# Replace NaN values with zeros if there were no profits in the period\n",
    "combined_data.fillna(0, inplace=True)"
   ]
  },
  {
   "cell_type": "code",
   "execution_count": 3,
   "id": "c213e0b2",
   "metadata": {},
   "outputs": [
    {
     "data": {
      "text/html": [
       "<div>\n",
       "<style scoped>\n",
       "    .dataframe tbody tr th:only-of-type {\n",
       "        vertical-align: middle;\n",
       "    }\n",
       "\n",
       "    .dataframe tbody tr th {\n",
       "        vertical-align: top;\n",
       "    }\n",
       "\n",
       "    .dataframe thead th {\n",
       "        text-align: right;\n",
       "    }\n",
       "</style>\n",
       "<table border=\"1\" class=\"dataframe\">\n",
       "  <thead>\n",
       "    <tr style=\"text-align: right;\">\n",
       "      <th></th>\n",
       "      <th>Customer ID</th>\n",
       "      <th>State</th>\n",
       "      <th>Treatment Group</th>\n",
       "      <th>Profit 60 Days Before Treatment</th>\n",
       "      <th>Profit 60 Days After Treatment</th>\n",
       "    </tr>\n",
       "  </thead>\n",
       "  <tbody>\n",
       "    <tr>\n",
       "      <th>0</th>\n",
       "      <td>0</td>\n",
       "      <td>VA</td>\n",
       "      <td>No Mail</td>\n",
       "      <td>0.00</td>\n",
       "      <td>0.00</td>\n",
       "    </tr>\n",
       "    <tr>\n",
       "      <th>1</th>\n",
       "      <td>1</td>\n",
       "      <td>VA</td>\n",
       "      <td>Mail</td>\n",
       "      <td>27.94</td>\n",
       "      <td>0.00</td>\n",
       "    </tr>\n",
       "    <tr>\n",
       "      <th>2</th>\n",
       "      <td>2</td>\n",
       "      <td>VA</td>\n",
       "      <td>Mail</td>\n",
       "      <td>530.79</td>\n",
       "      <td>126.26</td>\n",
       "    </tr>\n",
       "    <tr>\n",
       "      <th>3</th>\n",
       "      <td>3</td>\n",
       "      <td>OH</td>\n",
       "      <td>Mail</td>\n",
       "      <td>0.00</td>\n",
       "      <td>0.00</td>\n",
       "    </tr>\n",
       "    <tr>\n",
       "      <th>4</th>\n",
       "      <td>4</td>\n",
       "      <td>OH</td>\n",
       "      <td>Mail</td>\n",
       "      <td>54.72</td>\n",
       "      <td>99.91</td>\n",
       "    </tr>\n",
       "    <tr>\n",
       "      <th>...</th>\n",
       "      <td>...</td>\n",
       "      <td>...</td>\n",
       "      <td>...</td>\n",
       "      <td>...</td>\n",
       "      <td>...</td>\n",
       "    </tr>\n",
       "    <tr>\n",
       "      <th>11995</th>\n",
       "      <td>11995</td>\n",
       "      <td>GA</td>\n",
       "      <td>No Mail</td>\n",
       "      <td>0.00</td>\n",
       "      <td>115.05</td>\n",
       "    </tr>\n",
       "    <tr>\n",
       "      <th>11996</th>\n",
       "      <td>11996</td>\n",
       "      <td>GA</td>\n",
       "      <td>No Mail</td>\n",
       "      <td>146.98</td>\n",
       "      <td>68.42</td>\n",
       "    </tr>\n",
       "    <tr>\n",
       "      <th>11997</th>\n",
       "      <td>11997</td>\n",
       "      <td>OH</td>\n",
       "      <td>Mail</td>\n",
       "      <td>0.00</td>\n",
       "      <td>0.00</td>\n",
       "    </tr>\n",
       "    <tr>\n",
       "      <th>11998</th>\n",
       "      <td>11998</td>\n",
       "      <td>OH</td>\n",
       "      <td>Mail</td>\n",
       "      <td>6.92</td>\n",
       "      <td>35.21</td>\n",
       "    </tr>\n",
       "    <tr>\n",
       "      <th>11999</th>\n",
       "      <td>11999</td>\n",
       "      <td>GA</td>\n",
       "      <td>No Mail</td>\n",
       "      <td>165.04</td>\n",
       "      <td>0.00</td>\n",
       "    </tr>\n",
       "  </tbody>\n",
       "</table>\n",
       "<p>12000 rows × 5 columns</p>\n",
       "</div>"
      ],
      "text/plain": [
       "       Customer ID State Treatment Group  Profit 60 Days Before Treatment  \\\n",
       "0                0    VA         No Mail                             0.00   \n",
       "1                1    VA            Mail                            27.94   \n",
       "2                2    VA            Mail                           530.79   \n",
       "3                3    OH            Mail                             0.00   \n",
       "4                4    OH            Mail                            54.72   \n",
       "...            ...   ...             ...                              ...   \n",
       "11995        11995    GA         No Mail                             0.00   \n",
       "11996        11996    GA         No Mail                           146.98   \n",
       "11997        11997    OH            Mail                             0.00   \n",
       "11998        11998    OH            Mail                             6.92   \n",
       "11999        11999    GA         No Mail                           165.04   \n",
       "\n",
       "       Profit 60 Days After Treatment  \n",
       "0                                0.00  \n",
       "1                                0.00  \n",
       "2                              126.26  \n",
       "3                                0.00  \n",
       "4                               99.91  \n",
       "...                               ...  \n",
       "11995                          115.05  \n",
       "11996                           68.42  \n",
       "11997                            0.00  \n",
       "11998                           35.21  \n",
       "11999                            0.00  \n",
       "\n",
       "[12000 rows x 5 columns]"
      ]
     },
     "execution_count": 3,
     "metadata": {},
     "output_type": "execute_result"
    }
   ],
   "source": [
    "combined_data"
   ]
  },
  {
   "cell_type": "code",
   "execution_count": 4,
   "id": "b2b33d67",
   "metadata": {},
   "outputs": [
    {
     "name": "stdout",
     "output_type": "stream",
     "text": [
      "Mean (Profit 60 Days Before Treatment): 77.33159666666667\n",
      "Standard Deviation (Profit 60 Days Before Treatment): 229.00680235957972\n",
      "Mean (Profit 60 Days After Treatment): 119.34988583333335\n",
      "Standard Deviation (Profit 60 Days After Treatment): 337.1188200056834\n"
     ]
    }
   ],
   "source": [
    "# Mean & SD for Profit 60 Days Before Treatment\n",
    "mean_before_treatment = combined_data['Profit 60 Days Before Treatment'].mean()\n",
    "std_before_treatment = combined_data['Profit 60 Days Before Treatment'].std()\n",
    "\n",
    "# Mean & SD for Profit 60 Days After Treatment\n",
    "mean_after_treatment = combined_data['Profit 60 Days After Treatment'].mean()\n",
    "std_after_treatment = combined_data['Profit 60 Days After Treatment'].std()\n",
    "\n",
    "print(f\"Mean (Profit 60 Days Before Treatment): {mean_before_treatment}\")\n",
    "print(f\"Standard Deviation (Profit 60 Days Before Treatment): {std_before_treatment}\")\n",
    "print(f\"Mean (Profit 60 Days After Treatment): {mean_after_treatment}\")\n",
    "print(f\"Standard Deviation (Profit 60 Days After Treatment): {std_after_treatment}\")"
   ]
  },
  {
   "cell_type": "code",
   "execution_count": 5,
   "id": "0c04b142",
   "metadata": {},
   "outputs": [
    {
     "data": {
      "text/plain": [
       "(319037.47000000003, 26.586455833333336, 6.586455833333336, 1975936.7500000007)"
      ]
     },
     "execution_count": 5,
     "metadata": {},
     "output_type": "execute_result"
    }
   ],
   "source": [
    "# Constants\n",
    "cost_per_catalog = 20\n",
    "total_active_customer_base = 312000\n",
    "number_of_customers_in_treatment_group = 12000\n",
    "\n",
    "# Filter Mail Group\n",
    "mail_group = combined_data[combined_data['Treatment Group'] == 'Mail']\n",
    "\n",
    "# Calculate the total profit before and after the treatment for the treatment group\n",
    "total_profit_before = mail_group['Profit 60 Days Before Treatment'].sum()\n",
    "total_profit_after = mail_group['Profit 60 Days After Treatment'].sum()\n",
    "\n",
    "# The treatment effect is the difference in the totals\n",
    "total_treatment_effect = total_profit_after - total_profit_before\n",
    "per_customer_treatment_effect = total_treatment_effect / number_of_customers_in_treatment_group\n",
    "\n",
    "# Calculate the net profit per customer in the treatment group (corrected)\n",
    "net_profit_per_customer_treatment = per_customer_treatment_effect - cost_per_catalog\n",
    "\n",
    "# Calculate the number of customers in the remaining population (corrected)\n",
    "remaining_population = total_active_customer_base - number_of_customers_in_treatment_group\n",
    "\n",
    "# Calculate the expected gain over the remaining population (corrected)\n",
    "expected_gain_over_remaining_population = net_profit_per_customer_treatment * remaining_population\n",
    "\n",
    "total_treatment_effect, per_customer_treatment_effect, net_profit_per_customer_treatment, expected_gain_over_remaining_population"
   ]
  },
  {
   "cell_type": "code",
   "execution_count": 6,
   "id": "0b033141",
   "metadata": {},
   "outputs": [
    {
     "data": {
      "text/plain": [
       "0.8271959154190364"
      ]
     },
     "execution_count": 6,
     "metadata": {},
     "output_type": "execute_result"
    }
   ],
   "source": [
    "from scipy.stats import chi2_contingency\n",
    "\n",
    "# Create a contingency table of the counts of customers in each State by Treatment Group\n",
    "contingency_table = combined_data.pivot_table(index='State', columns='Treatment Group', aggfunc='size', fill_value=0)\n",
    "\n",
    "# Perform the Chi-Square Test of Independence\n",
    "chi2_stat, p_value, dof, expected = chi2_contingency(contingency_table)\n",
    "\n",
    "# Report the p-value\n",
    "p_value"
   ]
  },
  {
   "cell_type": "code",
   "execution_count": 7,
   "id": "a4091c15",
   "metadata": {},
   "outputs": [
    {
     "data": {
      "text/plain": [
       "0.27482743019870987"
      ]
     },
     "execution_count": 7,
     "metadata": {},
     "output_type": "execute_result"
    }
   ],
   "source": [
    "from scipy.stats import ttest_ind\n",
    "\n",
    "# Filter the data for the Mail and No Mail groups\n",
    "mail_group = combined_data[combined_data['Treatment Group'] == 'Mail']\n",
    "no_mail_group = combined_data[combined_data['Treatment Group'] == 'No Mail']\n",
    "\n",
    "# Perform the two-sided t-test on the 'Profit 60 Days Before Treatment'\n",
    "t_stat, p_value = ttest_ind(mail_group['Profit 60 Days Before Treatment'], no_mail_group['Profit 60 Days Before Treatment'], equal_var=False)\n",
    "\n",
    "# Report the p-value\n",
    "p_value"
   ]
  },
  {
   "cell_type": "code",
   "execution_count": 8,
   "id": "a6ca66f6",
   "metadata": {},
   "outputs": [
    {
     "data": {
      "text/plain": [
       "(17.743285000000014, 0.003938274308826571, 6.153044015728518)"
      ]
     },
     "execution_count": 8,
     "metadata": {},
     "output_type": "execute_result"
    }
   ],
   "source": [
    "# Calculate the mean profit 60 days after treatment for both groups\n",
    "mean_profit_mail = combined_data[combined_data['Treatment Group'] == 'Mail']['Profit 60 Days After Treatment'].mean()\n",
    "mean_profit_no_mail = combined_data[combined_data['Treatment Group'] == 'No Mail']['Profit 60 Days After Treatment'].mean()\n",
    "\n",
    "# Estimate the Average Treatment Effect (ATE)\n",
    "ate = mean_profit_mail - mean_profit_no_mail\n",
    "\n",
    "# b. Determine Statistical Significance\n",
    "# Perform a two-sample t-test\n",
    "t_stat, p_value = ttest_ind(\n",
    "    combined_data[combined_data['Treatment Group'] == 'Mail']['Profit 60 Days After Treatment'],\n",
    "    combined_data[combined_data['Treatment Group'] == 'No Mail']['Profit 60 Days After Treatment'],\n",
    "    equal_var=False  # Assuming variances are not equal\n",
    ")\n",
    "\n",
    "# Calculate the standard error of the mean difference\n",
    "n_mail = combined_data[combined_data['Treatment Group'] == 'Mail']['Profit 60 Days After Treatment'].count()\n",
    "n_no_mail = combined_data[combined_data['Treatment Group'] == 'No Mail']['Profit 60 Days After Treatment'].count()\n",
    "std_mail = combined_data[combined_data['Treatment Group'] == 'Mail']['Profit 60 Days After Treatment'].std()\n",
    "std_no_mail = combined_data[combined_data['Treatment Group'] == 'No Mail']['Profit 60 Days After Treatment'].std()\n",
    "standard_error = ((std_mail**2) / n_mail + (std_no_mail**2) / n_no_mail) ** 0.5\n",
    "\n",
    "ate, p_value, standard_error"
   ]
  },
  {
   "cell_type": "code",
   "execution_count": 9,
   "id": "1f2b1d5f",
   "metadata": {},
   "outputs": [
    {
     "name": "stdout",
     "output_type": "stream",
     "text": [
      "Total Expected Gain: -678000.0000000005\n"
     ]
    }
   ],
   "source": [
    "# Constants\n",
    "cost_per_catalog = 20  # Cost to produce and mail each catalog\n",
    "total_active_customer_base = 312000  # Total number of customers in the active customer base\n",
    "number_of_customers_in_experiment = 12000  # Number of customers in the treatment group\n",
    "\n",
    "ate = 17.74  # Average Treatment Effect from previous analysis\n",
    "\n",
    "# Calculate the Net Gain Per Customer by subtracting the cost of the catalog from the ATE\n",
    "net_gain_per_customer = ate - cost_per_catalog\n",
    "\n",
    "# Calculate the number of customers in the remaining population\n",
    "remaining_population = total_active_customer_base - number_of_customers_in_experiment\n",
    "\n",
    "# Calculate the Total Expected Gain for the remaining population\n",
    "total_expected_gain = net_gain_per_customer * remaining_population\n",
    "\n",
    "# Print the results\n",
    "print(f\"Total Expected Gain: {total_expected_gain}\")"
   ]
  },
  {
   "cell_type": "code",
   "execution_count": 10,
   "id": "58bc5f48",
   "metadata": {},
   "outputs": [
    {
     "name": "stdout",
     "output_type": "stream",
     "text": [
      "DiD Estimator: 22.309245000000004\n",
      "P-value: 1.362663769418418e-07\n",
      "Standard Error: 4.230377997113267\n",
      "Net Gain Per Customer: 2.309245000000004\n",
      "Total Expected Gain: 692773.5000000013\n"
     ]
    }
   ],
   "source": [
    "import pandas as pd\n",
    "from scipy.stats import ttest_ind\n",
    "\n",
    "# a. Estimate the Treatment Effect using the DiD Method\n",
    "avg_profit_pre_mail = combined_data[combined_data['Treatment Group'] == 'Mail']['Profit 60 Days Before Treatment'].mean()\n",
    "avg_profit_post_mail = combined_data[combined_data['Treatment Group'] == 'Mail']['Profit 60 Days After Treatment'].mean()\n",
    "avg_profit_pre_no_mail = combined_data[combined_data['Treatment Group'] == 'No Mail']['Profit 60 Days Before Treatment'].mean()\n",
    "avg_profit_post_no_mail = combined_data[combined_data['Treatment Group'] == 'No Mail']['Profit 60 Days After Treatment'].mean()\n",
    "\n",
    "diff_mail = avg_profit_post_mail - avg_profit_pre_mail\n",
    "diff_no_mail = avg_profit_post_no_mail - avg_profit_pre_no_mail\n",
    "did_estimator = diff_mail - diff_no_mail\n",
    "\n",
    "# b. Determine Statistical Significance\n",
    "# Calculating standard errors and performing a t-test\n",
    "mail_diff = combined_data[combined_data['Treatment Group'] == 'Mail']['Profit 60 Days After Treatment'] - combined_data[combined_data['Treatment Group'] == 'Mail']['Profit 60 Days Before Treatment']\n",
    "no_mail_diff = combined_data[combined_data['Treatment Group'] == 'No Mail']['Profit 60 Days After Treatment'] - combined_data[combined_data['Treatment Group'] == 'No Mail']['Profit 60 Days Before Treatment']\n",
    "t_stat_did, p_value_did = ttest_ind(mail_diff, no_mail_diff, equal_var=False)\n",
    "se_did = ((mail_diff.std() ** 2 / len(mail_diff)) + (no_mail_diff.std() ** 2 / len(no_mail_diff))) ** 0.5\n",
    "\n",
    "# c. Decision on Launching a Full-Scale Marketing Campaign\n",
    "# This decision is based on the significance (p-value) and magnitude of the DiD estimator.\n",
    "# If p_value_did < 0.05 and did_estimator is positive and sufficiently large, launching a campaign could be considered.\n",
    "\n",
    "# d. Expected Gain on the Remaining Population\n",
    "cost_per_catalog = 20\n",
    "total_active_customer_base = 312000\n",
    "number_of_customers_in_experiment = 12000\n",
    "\n",
    "net_gain_per_customer_did = did_estimator - cost_per_catalog\n",
    "remaining_population_did = total_active_customer_base - number_of_customers_in_experiment\n",
    "total_expected_gain_did = net_gain_per_customer_did * remaining_population_did\n",
    "\n",
    "# Printing results for review\n",
    "print(f\"DiD Estimator: {did_estimator}\")\n",
    "print(f\"P-value: {p_value_did}\")\n",
    "print(f\"Standard Error: {se_did}\")\n",
    "print(f\"Net Gain Per Customer: {net_gain_per_customer_did}\")\n",
    "print(f\"Total Expected Gain: {total_expected_gain_did}\")"
   ]
  },
  {
   "cell_type": "code",
   "execution_count": 11,
   "id": "3eca999c",
   "metadata": {},
   "outputs": [
    {
     "data": {
      "text/plain": [
       "({'GA': 37.260262479112896, 'OH': 23.40006304285548, 'VA': 2.8997820729018073},\n",
       " {'GA': 1866265.8805540819, 'OH': 348676.46504482935, 'VA': 0})"
      ]
     },
     "execution_count": 11,
     "metadata": {},
     "output_type": "execute_result"
    }
   ],
   "source": [
    "# Import necessary libraries\n",
    "import numpy as np\n",
    "from scipy.stats import ttest_ind\n",
    "\n",
    "# Constants\n",
    "cost_per_catalog = 20\n",
    "total_active_customer_base = 312000 - 12000  # Adjusting for the number of customers in the experiment\n",
    "number_of_customers_in_experiment = 12000\n",
    "\n",
    "# Compute ATE for each state separately and evaluate the possibility of launching a marketing campaign\n",
    "ates = {}\n",
    "expected_gains = {}\n",
    "for state in ['GA', 'OH', 'VA']:  # Assuming these are the three states in the dataset\n",
    "    # Subset data for the state\n",
    "    state_data = combined_data[combined_data['State'] == state]\n",
    "    \n",
    "    # Calculate mean profits for Mail and No Mail groups before and after the treatment\n",
    "    pre_mail = state_data[state_data['Treatment Group'] == 'Mail']['Profit 60 Days Before Treatment'].mean()\n",
    "    post_mail = state_data[state_data['Treatment Group'] == 'Mail']['Profit 60 Days After Treatment'].mean()\n",
    "    pre_no_mail = state_data[state_data['Treatment Group'] == 'No Mail']['Profit 60 Days Before Treatment'].mean()\n",
    "    post_no_mail = state_data[state_data['Treatment Group'] == 'No Mail']['Profit 60 Days After Treatment'].mean()\n",
    "    \n",
    "    # Calculate ATE for the state\n",
    "    ate = (post_mail - pre_mail) - (post_no_mail - pre_no_mail)\n",
    "    ates[state] = ate\n",
    "    \n",
    "    # Estimate the number of customers in the state within the remaining population\n",
    "    proportion_in_sample = len(state_data) / number_of_customers_in_experiment\n",
    "    estimated_customers_in_state = proportion_in_sample * total_active_customer_base\n",
    "    \n",
    "    # Calculate expected gain for the state\n",
    "    expected_gain = (ate - cost_per_catalog) * estimated_customers_in_state if ate > cost_per_catalog else 0\n",
    "    expected_gains[state] = expected_gain\n",
    "\n",
    "ates, expected_gains"
   ]
  }
 ],
 "metadata": {
  "kernelspec": {
   "display_name": "Python 3 (ipykernel)",
   "language": "python",
   "name": "python3"
  },
  "language_info": {
   "codemirror_mode": {
    "name": "ipython",
    "version": 3
   },
   "file_extension": ".py",
   "mimetype": "text/x-python",
   "name": "python",
   "nbconvert_exporter": "python",
   "pygments_lexer": "ipython3",
   "version": "3.11.5"
  }
 },
 "nbformat": 4,
 "nbformat_minor": 5
}
