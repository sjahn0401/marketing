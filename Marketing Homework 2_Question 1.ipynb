{
 "cells": [
  {
   "cell_type": "code",
   "execution_count": 4,
   "id": "118fe1ba",
   "metadata": {},
   "outputs": [],
   "source": [
    "import pandas as pd\n",
    "from sklearn.linear_model import LinearRegression\n",
    "import numpy as np\n",
    "q1_data = pd.read_csv('C:/Users/SJ/Desktop/Clean/MSBA/Marketing/Homework 2/Q1_data.csv')"
   ]
  },
  {
   "cell_type": "code",
   "execution_count": 6,
   "id": "d4247177",
   "metadata": {},
   "outputs": [
    {
     "name": "stdout",
     "output_type": "stream",
     "text": [
      "   Sales  Margherita  Price  Price Competitor\n",
      "0     20           0   5.69              4.07\n",
      "1     26           0   5.97              4.07\n",
      "2     41           0   6.19              4.06\n",
      "3    123           0   5.78              4.07\n",
      "4     32           0   6.19              4.07\n"
     ]
    }
   ],
   "source": [
    "print(q1_data.head())"
   ]
  },
  {
   "cell_type": "code",
   "execution_count": 8,
   "id": "c59f814a",
   "metadata": {},
   "outputs": [
    {
     "name": "stdout",
     "output_type": "stream",
     "text": [
      "Intercept: 480.9497567939104\n",
      "Slope: -69.54932118188329\n"
     ]
    }
   ],
   "source": [
    "# Prepare the data\n",
    "X = q1_data[['Price']]  # Independent variable\n",
    "y = q1_data['Sales']    # Dependent variable\n",
    "\n",
    "# Instantiate and fit the linear regression model\n",
    "model = LinearRegression().fit(X, y)\n",
    "\n",
    "# Get the coefficients of the model\n",
    "intercept = model.intercept_\n",
    "slope = model.coef_[0]\n",
    "\n",
    "print(f\"Intercept: {intercept}\")\n",
    "print(f\"Slope: {slope}\")"
   ]
  },
  {
   "cell_type": "code",
   "execution_count": 11,
   "id": "8f1d5d2d",
   "metadata": {},
   "outputs": [
    {
     "data": {
      "text/plain": [
       "(4.457145714571457, 420.06944914565537)"
      ]
     },
     "execution_count": 11,
     "metadata": {},
     "output_type": "execute_result"
    }
   ],
   "source": [
    "# Given values\n",
    "cost_to_produce_per_pizza = 2\n",
    "intercept = 480.9497567939104\n",
    "slope = -69.54932118188329\n",
    "\n",
    "# Define a range of possible pizza prices\n",
    "possible_prices = np.linspace(0.5, 10, 10000)  # Example: from $0.5 to $10 in 1000 steps\n",
    "\n",
    "# Calculate expected sales for each price\n",
    "expected_sales = intercept + slope * possible_prices\n",
    "\n",
    "# Calculate profit for each price\n",
    "profit = (possible_prices - cost_to_produce_per_pizza) * expected_sales\n",
    "\n",
    "# Find the price that maximizes profit\n",
    "max_profit_index = np.argmax(profit)\n",
    "optimal_price = possible_prices[max_profit_index]\n",
    "max_profit = profit[max_profit_index]\n",
    "\n",
    "optimal_price, max_profit"
   ]
  },
  {
   "cell_type": "code",
   "execution_count": 17,
   "id": "1ad59d1a",
   "metadata": {},
   "outputs": [
    {
     "name": "stdout",
     "output_type": "stream",
     "text": [
      "                            OLS Regression Results                            \n",
      "==============================================================================\n",
      "Dep. Variable:                  Sales   R-squared:                       0.277\n",
      "Model:                            OLS   Adj. R-squared:                  0.277\n",
      "Method:                 Least Squares   F-statistic:                     557.5\n",
      "Date:                Sat, 02 Mar 2024   Prob (F-statistic):          1.00e-306\n",
      "Time:                        22:18:51   Log-Likelihood:                -25101.\n",
      "No. Observations:                4368   AIC:                         5.021e+04\n",
      "Df Residuals:                    4364   BIC:                         5.024e+04\n",
      "Df Model:                           3                                         \n",
      "Covariance Type:            nonrobust                                         \n",
      "================================================================================================\n",
      "                                   coef    std err          t      P>|t|      [0.025      0.975]\n",
      "------------------------------------------------------------------------------------------------\n",
      "const                          321.1000     13.930     23.050      0.000     293.789     348.411\n",
      "Price                          -43.3963      2.383    -18.211      0.000     -48.068     -38.724\n",
      "Margherita                     381.0338     27.196     14.011      0.000     327.716     434.352\n",
      "Price_Margherita_Interaction   -61.6244      5.033    -12.245      0.000     -71.491     -51.758\n",
      "==============================================================================\n",
      "Omnibus:                     3414.028   Durbin-Watson:                   1.653\n",
      "Prob(Omnibus):                  0.000   Jarque-Bera (JB):           125919.992\n",
      "Skew:                           3.413   Prob(JB):                         0.00\n",
      "Kurtosis:                      28.402   Cond. No.                         148.\n",
      "==============================================================================\n",
      "\n",
      "Notes:\n",
      "[1] Standard Errors assume that the covariance matrix of the errors is correctly specified.\n"
     ]
    }
   ],
   "source": [
    "import pandas as pd\n",
    "import numpy as np\n",
    "import statsmodels.api as sm\n",
    "\n",
    "# Load the dataset\n",
    "data = pd.read_csv('C:/Users/SJ/Desktop/Clean/MSBA/Marketing/Homework 2/Q1_data.csv')  # Update with your actual file path\n",
    "\n",
    "# Create the interaction term using the 'Margherita' column\n",
    "data['Price_Margherita_Interaction'] = data['Price'] * data['Margherita']\n",
    "\n",
    "# Define independent variables X with a constant term for the intercept, and the dependent variable y\n",
    "X = data[['Price', 'Margherita', 'Price_Margherita_Interaction']]\n",
    "X = sm.add_constant(X)  # Adds a constant term to the predictor\n",
    "y = data['Sales']\n",
    "\n",
    "# Fit the linear regression model\n",
    "model = sm.OLS(y, X).fit()\n",
    "\n",
    "# Print the summary of the regression model\n",
    "print(model.summary())"
   ]
  },
  {
   "cell_type": "code",
   "execution_count": 18,
   "id": "8e923960",
   "metadata": {},
   "outputs": [
    {
     "data": {
      "text/plain": [
       "(4.342835269618275, 4.699624161506858)"
      ]
     },
     "execution_count": 18,
     "metadata": {},
     "output_type": "execute_result"
    }
   ],
   "source": [
    "import numpy as np\n",
    "from scipy.optimize import minimize_scalar\n",
    "\n",
    "# Coefficients from the regression model\n",
    "intercept = 321.1000\n",
    "coef_price = -43.3963\n",
    "coef_margherita = 381.0338\n",
    "coef_interaction = -61.6244\n",
    "cost_to_produce = 2  # Given cost to produce each pizza\n",
    "\n",
    "# Profit function for Margherita pizza\n",
    "def profit_margherita(price):\n",
    "    sales = intercept + coef_price * price + coef_margherita * 1 + coef_interaction * price * 1\n",
    "    profit = (price - cost_to_produce) * sales\n",
    "    return -profit  \n",
    "\n",
    "# Profit function for Pepperoni pizza\n",
    "def profit_pepperoni(price):\n",
    "    sales = intercept + coef_price * price \n",
    "    profit = (price - cost_to_produce) * sales\n",
    "    return -profit \n",
    "\n",
    "# Optimize prices for both types of pizza\n",
    "optimal_price_margherita = minimize_scalar(profit_margherita, bounds=(0, 10), method='bounded').x\n",
    "optimal_price_pepperoni = minimize_scalar(profit_pepperoni, bounds=(0, 10), method='bounded').x\n",
    "\n",
    "optimal_price_margherita, optimal_price_pepperoni"
   ]
  },
  {
   "cell_type": "code",
   "execution_count": 21,
   "id": "05174a10",
   "metadata": {},
   "outputs": [
    {
     "data": {
      "text/plain": [
       "(1581545.9369862631, 4.342835269618275, 4.699624161506858, 769, 3599)"
      ]
     },
     "execution_count": 21,
     "metadata": {},
     "output_type": "execute_result"
    }
   ],
   "source": [
    "# Calculate the number of stores selling each type of pizza\n",
    "num_stores_margherita = len(data[data['Margherita'] == 1])\n",
    "num_stores_pepperoni = len(data) - num_stores_margherita  # Assuming all other stores sell Pepperoni\n",
    "\n",
    "# Calculate expected sales at optimal prices\n",
    "expected_sales_margherita = intercept + coef_price * optimal_price_margherita + coef_margherita * 1 + coef_interaction * optimal_price_margherita * 1\n",
    "expected_sales_pepperoni = intercept + coef_price * optimal_price_pepperoni\n",
    "\n",
    "# Calculate expected profit for both types of pizzas\n",
    "profit_margherita = (optimal_price_margherita - cost_to_produce) * expected_sales_margherita\n",
    "profit_pepperoni = (optimal_price_pepperoni - cost_to_produce) * expected_sales_pepperoni\n",
    "\n",
    "# Calculate total expected profit\n",
    "total_expected_profit = (profit_margherita * num_stores_margherita) + (profit_pepperoni * num_stores_pepperoni)\n",
    "total_expected_profit, optimal_price_margherita, optimal_price_pepperoni, num_stores_margherita, num_stores_pepperoni\n"
   ]
  },
  {
   "cell_type": "code",
   "execution_count": 24,
   "id": "4a9df138",
   "metadata": {},
   "outputs": [
    {
     "data": {
      "text/html": [
       "<table class=\"simpletable\">\n",
       "<caption>OLS Regression Results</caption>\n",
       "<tr>\n",
       "  <th>Dep. Variable:</th>          <td>Sales</td>      <th>  R-squared:         </th> <td>   0.294</td> \n",
       "</tr>\n",
       "<tr>\n",
       "  <th>Model:</th>                   <td>OLS</td>       <th>  Adj. R-squared:    </th> <td>   0.293</td> \n",
       "</tr>\n",
       "<tr>\n",
       "  <th>Method:</th>             <td>Least Squares</td>  <th>  F-statistic:       </th> <td>   454.0</td> \n",
       "</tr>\n",
       "<tr>\n",
       "  <th>Date:</th>             <td>Sat, 02 Mar 2024</td> <th>  Prob (F-statistic):</th>  <td>  0.00</td>  \n",
       "</tr>\n",
       "<tr>\n",
       "  <th>Time:</th>                 <td>23:19:37</td>     <th>  Log-Likelihood:    </th> <td> -25050.</td> \n",
       "</tr>\n",
       "<tr>\n",
       "  <th>No. Observations:</th>      <td>  4368</td>      <th>  AIC:               </th> <td>5.011e+04</td>\n",
       "</tr>\n",
       "<tr>\n",
       "  <th>Df Residuals:</th>          <td>  4363</td>      <th>  BIC:               </th> <td>5.014e+04</td>\n",
       "</tr>\n",
       "<tr>\n",
       "  <th>Df Model:</th>              <td>     4</td>      <th>                     </th>     <td> </td>    \n",
       "</tr>\n",
       "<tr>\n",
       "  <th>Covariance Type:</th>      <td>nonrobust</td>    <th>                     </th>     <td> </td>    \n",
       "</tr>\n",
       "</table>\n",
       "<table class=\"simpletable\">\n",
       "<tr>\n",
       "                <td></td>                  <th>coef</th>     <th>std err</th>      <th>t</th>      <th>P>|t|</th>  <th>[0.025</th>    <th>0.975]</th>  \n",
       "</tr>\n",
       "<tr>\n",
       "  <th>const</th>                        <td>  268.6537</td> <td>   14.699</td> <td>   18.277</td> <td> 0.000</td> <td>  239.836</td> <td>  297.471</td>\n",
       "</tr>\n",
       "<tr>\n",
       "  <th>Price</th>                        <td>  -45.7269</td> <td>    2.366</td> <td>  -19.323</td> <td> 0.000</td> <td>  -50.366</td> <td>  -41.087</td>\n",
       "</tr>\n",
       "<tr>\n",
       "  <th>Margherita</th>                   <td>  392.0647</td> <td>   26.903</td> <td>   14.573</td> <td> 0.000</td> <td>  339.322</td> <td>  444.808</td>\n",
       "</tr>\n",
       "<tr>\n",
       "  <th>Price_Margherita_Interaction</th> <td>  -63.7767</td> <td>    4.979</td> <td>  -12.810</td> <td> 0.000</td> <td>  -73.538</td> <td>  -54.016</td>\n",
       "</tr>\n",
       "<tr>\n",
       "  <th>Price Competitor</th>             <td>   16.1888</td> <td>    1.588</td> <td>   10.193</td> <td> 0.000</td> <td>   13.075</td> <td>   19.303</td>\n",
       "</tr>\n",
       "</table>\n",
       "<table class=\"simpletable\">\n",
       "<tr>\n",
       "  <th>Omnibus:</th>       <td>3385.898</td> <th>  Durbin-Watson:     </th>  <td>   1.686</td> \n",
       "</tr>\n",
       "<tr>\n",
       "  <th>Prob(Omnibus):</th>  <td> 0.000</td>  <th>  Jarque-Bera (JB):  </th> <td>124719.964</td>\n",
       "</tr>\n",
       "<tr>\n",
       "  <th>Skew:</th>           <td> 3.369</td>  <th>  Prob(JB):          </th>  <td>    0.00</td> \n",
       "</tr>\n",
       "<tr>\n",
       "  <th>Kurtosis:</th>       <td>28.296</td>  <th>  Cond. No.          </th>  <td>    181.</td> \n",
       "</tr>\n",
       "</table><br/><br/>Notes:<br/>[1] Standard Errors assume that the covariance matrix of the errors is correctly specified."
      ],
      "text/latex": [
       "\\begin{center}\n",
       "\\begin{tabular}{lclc}\n",
       "\\toprule\n",
       "\\textbf{Dep. Variable:}                 &      Sales       & \\textbf{  R-squared:         } &     0.294   \\\\\n",
       "\\textbf{Model:}                         &       OLS        & \\textbf{  Adj. R-squared:    } &     0.293   \\\\\n",
       "\\textbf{Method:}                        &  Least Squares   & \\textbf{  F-statistic:       } &     454.0   \\\\\n",
       "\\textbf{Date:}                          & Sat, 02 Mar 2024 & \\textbf{  Prob (F-statistic):} &     0.00    \\\\\n",
       "\\textbf{Time:}                          &     23:19:37     & \\textbf{  Log-Likelihood:    } &   -25050.   \\\\\n",
       "\\textbf{No. Observations:}              &        4368      & \\textbf{  AIC:               } & 5.011e+04   \\\\\n",
       "\\textbf{Df Residuals:}                  &        4363      & \\textbf{  BIC:               } & 5.014e+04   \\\\\n",
       "\\textbf{Df Model:}                      &           4      & \\textbf{                     } &             \\\\\n",
       "\\textbf{Covariance Type:}               &    nonrobust     & \\textbf{                     } &             \\\\\n",
       "\\bottomrule\n",
       "\\end{tabular}\n",
       "\\begin{tabular}{lcccccc}\n",
       "                                        & \\textbf{coef} & \\textbf{std err} & \\textbf{t} & \\textbf{P$> |$t$|$} & \\textbf{[0.025} & \\textbf{0.975]}  \\\\\n",
       "\\midrule\n",
       "\\textbf{const}                          &     268.6537  &       14.699     &    18.277  &         0.000        &      239.836    &      297.471     \\\\\n",
       "\\textbf{Price}                          &     -45.7269  &        2.366     &   -19.323  &         0.000        &      -50.366    &      -41.087     \\\\\n",
       "\\textbf{Margherita}                     &     392.0647  &       26.903     &    14.573  &         0.000        &      339.322    &      444.808     \\\\\n",
       "\\textbf{Price\\_Margherita\\_Interaction} &     -63.7767  &        4.979     &   -12.810  &         0.000        &      -73.538    &      -54.016     \\\\\n",
       "\\textbf{Price Competitor}               &      16.1888  &        1.588     &    10.193  &         0.000        &       13.075    &       19.303     \\\\\n",
       "\\bottomrule\n",
       "\\end{tabular}\n",
       "\\begin{tabular}{lclc}\n",
       "\\textbf{Omnibus:}       & 3385.898 & \\textbf{  Durbin-Watson:     } &     1.686   \\\\\n",
       "\\textbf{Prob(Omnibus):} &   0.000  & \\textbf{  Jarque-Bera (JB):  } & 124719.964  \\\\\n",
       "\\textbf{Skew:}          &   3.369  & \\textbf{  Prob(JB):          } &      0.00   \\\\\n",
       "\\textbf{Kurtosis:}      &  28.296  & \\textbf{  Cond. No.          } &      181.   \\\\\n",
       "\\bottomrule\n",
       "\\end{tabular}\n",
       "%\\caption{OLS Regression Results}\n",
       "\\end{center}\n",
       "\n",
       "Notes: \\newline\n",
       " [1] Standard Errors assume that the covariance matrix of the errors is correctly specified."
      ],
      "text/plain": [
       "<class 'statsmodels.iolib.summary.Summary'>\n",
       "\"\"\"\n",
       "                            OLS Regression Results                            \n",
       "==============================================================================\n",
       "Dep. Variable:                  Sales   R-squared:                       0.294\n",
       "Model:                            OLS   Adj. R-squared:                  0.293\n",
       "Method:                 Least Squares   F-statistic:                     454.0\n",
       "Date:                Sat, 02 Mar 2024   Prob (F-statistic):               0.00\n",
       "Time:                        23:19:37   Log-Likelihood:                -25050.\n",
       "No. Observations:                4368   AIC:                         5.011e+04\n",
       "Df Residuals:                    4363   BIC:                         5.014e+04\n",
       "Df Model:                           4                                         \n",
       "Covariance Type:            nonrobust                                         \n",
       "================================================================================================\n",
       "                                   coef    std err          t      P>|t|      [0.025      0.975]\n",
       "------------------------------------------------------------------------------------------------\n",
       "const                          268.6537     14.699     18.277      0.000     239.836     297.471\n",
       "Price                          -45.7269      2.366    -19.323      0.000     -50.366     -41.087\n",
       "Margherita                     392.0647     26.903     14.573      0.000     339.322     444.808\n",
       "Price_Margherita_Interaction   -63.7767      4.979    -12.810      0.000     -73.538     -54.016\n",
       "Price Competitor                16.1888      1.588     10.193      0.000      13.075      19.303\n",
       "==============================================================================\n",
       "Omnibus:                     3385.898   Durbin-Watson:                   1.686\n",
       "Prob(Omnibus):                  0.000   Jarque-Bera (JB):           124719.964\n",
       "Skew:                           3.369   Prob(JB):                         0.00\n",
       "Kurtosis:                      28.296   Cond. No.                         181.\n",
       "==============================================================================\n",
       "\n",
       "Notes:\n",
       "[1] Standard Errors assume that the covariance matrix of the errors is correctly specified.\n",
       "\"\"\""
      ]
     },
     "execution_count": 24,
     "metadata": {},
     "output_type": "execute_result"
    }
   ],
   "source": [
    "# Since the user has provided the local path of the file, we'll assume they want to understand how to update the code.\n",
    "# However, we will use the file that was uploaded in the previous interaction for the actual execution.\n",
    "\n",
    "# Re-import necessary packages since the code execution state was reset\n",
    "import pandas as pd\n",
    "import statsmodels.api as sm\n",
    "\n",
    "# Load the dataset\n",
    "data = pd.read_csv('C:/Users/SJ/Desktop/Clean/MSBA/Marketing/Homework 2/Q1_data.csv')\n",
    "\n",
    "# Create the interaction term using the 'Margherita' column\n",
    "data['Price_Margherita_Interaction'] = data['Price'] * data['Margherita']\n",
    "\n",
    "# Define independent variables X with a constant term for the intercept, the dependent variable y, and include the competitor's price\n",
    "X = data[['Price', 'Margherita', 'Price_Margherita_Interaction', 'Price Competitor']]\n",
    "X = sm.add_constant(X)  # Adds a constant term to the predictor\n",
    "y = data['Sales']\n",
    "\n",
    "# Fit the linear regression model with the competitor's price included\n",
    "model_with_competitor = sm.OLS(y, X).fit()\n",
    "\n",
    "# Print the summary of the regression model\n",
    "model_with_competitor.summary()"
   ]
  },
  {
   "cell_type": "code",
   "execution_count": 26,
   "id": "00b075a7",
   "metadata": {},
   "outputs": [
    {
     "data": {
      "text/plain": [
       "0       2.247194e+06\n",
       "1       2.247194e+06\n",
       "2       2.245329e+06\n",
       "3       2.247194e+06\n",
       "4       2.247194e+06\n",
       "            ...     \n",
       "4363    1.773596e+06\n",
       "4364    1.758679e+06\n",
       "4365    1.732575e+06\n",
       "4366    1.723252e+06\n",
       "4367    1.695284e+06\n",
       "Name: Price Competitor, Length: 4368, dtype: float64"
      ]
     },
     "execution_count": 26,
     "metadata": {},
     "output_type": "execute_result"
    }
   ],
   "source": [
    "# To calculate the change in total expected profit if the competitor decreases their price by $0.5,\n",
    "# we need to adjust the expected sales calculations to account for the new competitor's price.\n",
    "# We will use the Price Competitor coefficient from the updated model to adjust the expected sales.\n",
    "\n",
    "# Coefficients from the updated regression model including competitor's price\n",
    "coef_price_competitor = 16.1888\n",
    "\n",
    "# New competitor's price decreased by $0.5\n",
    "new_competitors_price = data['Price Competitor'] - 0.5\n",
    "\n",
    "# Updated expected sales calculations with the new competitor's price\n",
    "expected_sales_margherita_new = (intercept + coef_price * optimal_price_margherita +\n",
    "                                 coef_margherita * 1 + coef_interaction * optimal_price_margherita * 1 +\n",
    "                                 coef_price_competitor * new_competitors_price)\n",
    "expected_sales_pepperoni_new = (intercept + coef_price * optimal_price_pepperoni +\n",
    "                                coef_price_competitor * new_competitors_price)\n",
    "\n",
    "# Updated expected profit calculations with the new expected sales\n",
    "profit_margherita_new = (optimal_price_margherita - cost_to_produce) * expected_sales_margherita_new\n",
    "profit_pepperoni_new = (optimal_price_pepperoni - cost_to_produce) * expected_sales_pepperoni_new\n",
    "\n",
    "# Updated total expected profit calculation with the new expected profits\n",
    "total_expected_profit_new = (profit_margherita_new * num_stores_margherita) + (profit_pepperoni_new * num_stores_pepperoni)\n",
    "total_expected_profit_new"
   ]
  },
  {
   "cell_type": "code",
   "execution_count": 27,
   "id": "84601451",
   "metadata": {},
   "outputs": [
    {
     "data": {
      "text/plain": [
       "2246335.579029752"
      ]
     },
     "execution_count": 27,
     "metadata": {},
     "output_type": "execute_result"
    }
   ],
   "source": [
    "# Correct the code with the average new competitor's price\n",
    "average_new_competitors_price = data['Price Competitor'].mean() - 0.5\n",
    "\n",
    "# Recalculate expected sales with the new average competitor's price\n",
    "expected_sales_margherita_new = (intercept + coef_price * optimal_price_margherita +\n",
    "                                 coef_margherita * 1 + coef_interaction * optimal_price_margherita * 1 +\n",
    "                                 coef_price_competitor * average_new_competitors_price)\n",
    "expected_sales_pepperoni_new = (intercept + coef_price * optimal_price_pepperoni +\n",
    "                                coef_price_competitor * average_new_competitors_price)\n",
    "\n",
    "# Recalculate expected profits with the new expected sales\n",
    "profit_margherita_new = (optimal_price_margherita - cost_to_produce) * expected_sales_margherita_new\n",
    "profit_pepperoni_new = (optimal_price_pepperoni - cost_to_produce) * expected_sales_pepperoni_new\n",
    "\n",
    "# Recalculate the total expected profit with the new expected profits\n",
    "total_expected_profit_new = (profit_margherita_new * num_stores_margherita) + (profit_pepperoni_new * num_stores_pepperoni)\n",
    "total_expected_profit_new"
   ]
  }
 ],
 "metadata": {
  "kernelspec": {
   "display_name": "Python 3 (ipykernel)",
   "language": "python",
   "name": "python3"
  },
  "language_info": {
   "codemirror_mode": {
    "name": "ipython",
    "version": 3
   },
   "file_extension": ".py",
   "mimetype": "text/x-python",
   "name": "python",
   "nbconvert_exporter": "python",
   "pygments_lexer": "ipython3",
   "version": "3.11.5"
  }
 },
 "nbformat": 4,
 "nbformat_minor": 5
}
