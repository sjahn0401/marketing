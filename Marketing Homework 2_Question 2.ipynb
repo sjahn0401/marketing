{
 "cells": [
  {
   "cell_type": "code",
   "execution_count": 2,
   "id": "118fe1ba",
   "metadata": {},
   "outputs": [],
   "source": [
    "import pandas as pd\n",
    "from sklearn.linear_model import LinearRegression\n",
    "import numpy as np\n",
    "q2_data = pd.read_csv('C:/Users/SJ/Desktop/Clean/MSBA/Marketing/Homework 2/Q2_data.csv')"
   ]
  },
  {
   "cell_type": "code",
   "execution_count": 3,
   "id": "d4247177",
   "metadata": {},
   "outputs": [
    {
     "name": "stdout",
     "output_type": "stream",
     "text": [
      "   Product ID Category  Color  Season  Price  Share Returned  \\\n",
      "0           0     Knit    Red    Fall   4.92            0.53   \n",
      "1           1     Knit  Brown    Fall   5.16            0.39   \n",
      "2           2     Knit   Blue    Fall   5.21            0.49   \n",
      "3           3     Knit   Grey    Fall   5.09            0.52   \n",
      "4           4     Knit  Green  Winter   3.56            0.34   \n",
      "\n",
      "   Profit Per Product  \n",
      "0                2.84  \n",
      "1                3.08  \n",
      "2                3.13  \n",
      "3                3.01  \n",
      "4                1.25  \n"
     ]
    }
   ],
   "source": [
    "print(q2_data.head())"
   ]
  },
  {
   "cell_type": "code",
   "execution_count": 5,
   "id": "c59f814a",
   "metadata": {},
   "outputs": [
    {
     "name": "stdout",
     "output_type": "stream",
     "text": [
      "Percentage of Unprofitable Products: 0.8117802529733811%\n",
      "Average Profit Per Product: $2.9427355106664153\n"
     ]
    }
   ],
   "source": [
    "# Question 1: Are there any unprofitable products? What %?\n",
    "unprofitable_products = q2_data[q2_data['Profit Per Product'] <= 0]\n",
    "percentage_unprofitable = (len(unprofitable_products) / len(q2_data)) * 100\n",
    "\n",
    "# Question 2: For simplicity, assume each product has equal sales, what is the average profit per product?\n",
    "average_profit_per_product = q2_data['Profit Per Product'].mean()\n",
    "\n",
    "print(f\"Percentage of Unprofitable Products: {percentage_unprofitable}%\")\n",
    "print(f\"Average Profit Per Product: ${average_profit_per_product}\")"
   ]
  },
  {
   "cell_type": "code",
   "execution_count": 10,
   "id": "8f1d5d2d",
   "metadata": {},
   "outputs": [
    {
     "name": "stdout",
     "output_type": "stream",
     "text": [
      "   Product ID  Profit Per Product  Online Profit Per Product\n",
      "0           0                2.84                       2.31\n",
      "1           1                3.08                       2.69\n",
      "2           2                3.13                       2.64\n",
      "3           3                3.01                       2.49\n",
      "4           4                1.25                       0.91\n",
      "Percentage of Unprofitable Products Online: 0.05437039833868227%\n",
      "Average Online Profit Per Product: 2.440715499339249\n"
     ]
    }
   ],
   "source": [
    "# a. Compute the profit per product in the online channel\n",
    "q2_data['Online Profit Per Product'] = q2_data['Profit Per Product'] - (q2_data['Share Returned'] * 1)\n",
    "print(q2_data[['Product ID', 'Profit Per Product', 'Online Profit Per Product']].head())\n",
    "\n",
    "# b. Identify any unprofitable products in the online channel and calculate the percentage\n",
    "unprofitable_online_products = q2_data[q2_data['Online Profit Per Product'] <= 0]\n",
    "percentage_unprofitable_online = (len(unprofitable_online_products) / len(q2_data))\n",
    "\n",
    "# c. Calculate the average profit per product in the online channel\n",
    "average_online_profit_per_product = q2_data['Online Profit Per Product'].mean()\n",
    "\n",
    "# Print the results\n",
    "print(f\"Percentage of Unprofitable Products Online: {percentage_unprofitable_online}%\")\n",
    "print(f\"Average Online Profit Per Product: {average_online_profit_per_product}\")"
   ]
  },
  {
   "cell_type": "code",
   "execution_count": 19,
   "id": "6eb6383b",
   "metadata": {},
   "outputs": [
    {
     "name": "stdout",
     "output_type": "stream",
     "text": [
      "Feature Importance from Logistic Regression:\n",
      "             Feature  Coefficient\n",
      "15      Color_Yellow     1.421217\n",
      "13         Color_Red     0.769165\n",
      "5    Category_Shirts     0.730156\n",
      "8        Color_Brown     0.697306\n",
      "3      Category_Knit     0.365719\n",
      "9        Color_Green     0.357722\n",
      "2   Category_Jackets     0.347387\n",
      "14       Color_White     0.337958\n",
      "10        Color_Grey     0.301459\n",
      "4     Category_Pants     0.244091\n",
      "7         Color_Blue     0.152340\n",
      "6    Category_Skirts    -0.218520\n",
      "12        Color_Pink    -0.225546\n",
      "0   Category_Bluoses    -0.367613\n",
      "17     Season_Summer    -0.732432\n",
      "1   Category_Dresses    -0.832118\n",
      "11      Color_Orange    -0.885376\n",
      "16     Season_Spring    -0.936759\n",
      "18     Season_Winter    -1.314889\n"
     ]
    },
    {
     "name": "stderr",
     "output_type": "stream",
     "text": [
      "C:\\Users\\SJ\\anaconda3\\Lib\\site-packages\\sklearn\\preprocessing\\_encoders.py:972: FutureWarning: `sparse` was renamed to `sparse_output` in version 1.2 and will be removed in 1.4. `sparse_output` is ignored unless you leave `sparse` to its default value.\n",
      "  warnings.warn(\n"
     ]
    }
   ],
   "source": [
    "from sklearn.model_selection import train_test_split\n",
    "from sklearn.linear_model import LogisticRegression\n",
    "from sklearn.preprocessing import OneHotEncoder\n",
    "from sklearn.metrics import classification_report, confusion_matrix\n",
    "\n",
    "# part a: \"Bad Product\"\n",
    "q2_data['Online Profit Per Product'] = q2_data['Profit Per Product'] - (q2_data['Share Returned'] * 1)\n",
    "q2_data['Bad Product'] = (q2_data['Online Profit Per Product'] < 0).astype(int)\n",
    "\n",
    "# part b: \"Risk Factors\"\n",
    "encoder = OneHotEncoder(sparse=False, drop='first')  \n",
    "categorical_vars = ['Category', 'Color', 'Season']\n",
    "encoded_vars = encoder.fit_transform(q2_data[categorical_vars])\n",
    "encoded_vars_df = pd.DataFrame(encoded_vars, columns=encoder.get_feature_names_out(categorical_vars))\n",
    "\n",
    "X = encoded_vars_df  # Predictor variables\n",
    "y = q2_data['Bad Product']  # Target variable\n",
    "\n",
    "# Split the dataset into training and testing sets\n",
    "X_train, X_test, y_train, y_test = train_test_split(X, y, test_size=0.2, random_state=42)\n",
    "\n",
    "# Logistic Regression\n",
    "log_reg = LogisticRegression(max_iter=1000)\n",
    "log_reg.fit(X_train, y_train)\n",
    "\n",
    "# Display the coefficients for each feature\n",
    "feature_importance = pd.DataFrame({'Feature': X_train.columns, 'Coefficient': log_reg.coef_[0]})\n",
    "sorted_feature_importance = feature_importance.sort_values(by='Coefficient', ascending=False)\n",
    "\n",
    "# Print results\n",
    "print(\"Feature Importance from Logistic Regression:\")\n",
    "print(sorted_feature_importance)"
   ]
  }
 ],
 "metadata": {
  "kernelspec": {
   "display_name": "Python 3 (ipykernel)",
   "language": "python",
   "name": "python3"
  },
  "language_info": {
   "codemirror_mode": {
    "name": "ipython",
    "version": 3
   },
   "file_extension": ".py",
   "mimetype": "text/x-python",
   "name": "python",
   "nbconvert_exporter": "python",
   "pygments_lexer": "ipython3",
   "version": "3.11.5"
  }
 },
 "nbformat": 4,
 "nbformat_minor": 5
}
